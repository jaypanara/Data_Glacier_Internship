{
  "nbformat": 4,
  "nbformat_minor": 0,
  "metadata": {
    "colab": {
      "provenance": [],
      "collapsed_sections": []
    },
    "kernelspec": {
      "name": "python3",
      "display_name": "Python 3"
    },
    "language_info": {
      "name": "python"
    },
    "accelerator": "GPU"
  },
  "cells": [
    {
      "cell_type": "code",
      "source": [
        "import time\n",
        "import pandas as pd\n",
        "from dask import dataframe as dd\n",
        "!pip install modin\n",
        "import modin.pandas as mpd\n",
        "from distributed import Client\n",
        "client = Client()\n",
        "!pip install \"ray[data]\"\n",
        "import ray"
      ],
      "metadata": {
        "colab": {
          "base_uri": "https://localhost:8080/"
        },
        "id": "iTetUJ2QWVN3",
        "outputId": "e4c507d1-685a-4f7f-9b49-42ca6f588af8"
      },
      "execution_count": 1,
      "outputs": [
        {
          "output_type": "stream",
          "name": "stdout",
          "text": [
            "Looking in indexes: https://pypi.org/simple, https://us-python.pkg.dev/colab-wheels/public/simple/\n",
            "Collecting modin\n",
            "  Downloading modin-0.16.0-py3-none-any.whl (956 kB)\n",
            "\u001b[K     |████████████████████████████████| 956 kB 4.8 MB/s \n",
            "\u001b[?25hRequirement already satisfied: psutil in /usr/local/lib/python3.7/dist-packages (from modin) (5.4.8)\n",
            "Requirement already satisfied: numpy>=1.18.5 in /usr/local/lib/python3.7/dist-packages (from modin) (1.21.6)\n",
            "Requirement already satisfied: fsspec in /usr/local/lib/python3.7/dist-packages (from modin) (2022.8.2)\n",
            "Requirement already satisfied: packaging in /usr/local/lib/python3.7/dist-packages (from modin) (21.3)\n",
            "  Downloading modin-0.12.1-py3-none-any.whl (761 kB)\n",
            "\u001b[K     |████████████████████████████████| 761 kB 48.1 MB/s \n",
            "\u001b[?25hRequirement already satisfied: pandas==1.3.5 in /usr/local/lib/python3.7/dist-packages (from modin) (1.3.5)\n",
            "Requirement already satisfied: python-dateutil>=2.7.3 in /usr/local/lib/python3.7/dist-packages (from pandas==1.3.5->modin) (2.8.2)\n",
            "Requirement already satisfied: pytz>=2017.3 in /usr/local/lib/python3.7/dist-packages (from pandas==1.3.5->modin) (2022.4)\n",
            "Requirement already satisfied: six>=1.5 in /usr/local/lib/python3.7/dist-packages (from python-dateutil>=2.7.3->pandas==1.3.5->modin) (1.15.0)\n",
            "Requirement already satisfied: pyparsing!=3.0.5,>=2.0.2 in /usr/local/lib/python3.7/dist-packages (from packaging->modin) (3.0.9)\n",
            "Installing collected packages: modin\n",
            "Successfully installed modin-0.12.1\n",
            "Looking in indexes: https://pypi.org/simple, https://us-python.pkg.dev/colab-wheels/public/simple/\n",
            "Collecting ray[data]\n",
            "  Downloading ray-2.0.0-cp37-cp37m-manylinux2014_x86_64.whl (59.4 MB)\n",
            "\u001b[K     |████████████████████████████████| 59.4 MB 1.2 MB/s \n",
            "\u001b[?25hRequirement already satisfied: requests in /usr/local/lib/python3.7/dist-packages (from ray[data]) (2.23.0)\n",
            "Requirement already satisfied: aiosignal in /usr/local/lib/python3.7/dist-packages (from ray[data]) (1.2.0)\n",
            "Requirement already satisfied: pyyaml in /usr/local/lib/python3.7/dist-packages (from ray[data]) (6.0)\n",
            "Requirement already satisfied: msgpack<2.0.0,>=1.0.0 in /usr/local/lib/python3.7/dist-packages (from ray[data]) (1.0.4)\n",
            "Collecting virtualenv\n",
            "  Downloading virtualenv-20.16.5-py3-none-any.whl (8.8 MB)\n",
            "\u001b[K     |████████████████████████████████| 8.8 MB 52.3 MB/s \n",
            "\u001b[?25hRequirement already satisfied: numpy>=1.16 in /usr/local/lib/python3.7/dist-packages (from ray[data]) (1.21.6)\n",
            "Requirement already satisfied: frozenlist in /usr/local/lib/python3.7/dist-packages (from ray[data]) (1.3.1)\n",
            "Requirement already satisfied: filelock in /usr/local/lib/python3.7/dist-packages (from ray[data]) (3.8.0)\n",
            "Requirement already satisfied: typing-extensions in /usr/local/lib/python3.7/dist-packages (from ray[data]) (4.1.1)\n",
            "Collecting grpcio<=1.43.0,>=1.28.1\n",
            "  Downloading grpcio-1.43.0-cp37-cp37m-manylinux_2_17_x86_64.manylinux2014_x86_64.whl (4.1 MB)\n",
            "\u001b[K     |████████████████████████████████| 4.1 MB 47.6 MB/s \n",
            "\u001b[?25hRequirement already satisfied: click<=8.0.4,>=7.0 in /usr/local/lib/python3.7/dist-packages (from ray[data]) (7.1.2)\n",
            "Requirement already satisfied: jsonschema in /usr/local/lib/python3.7/dist-packages (from ray[data]) (4.3.3)\n",
            "Requirement already satisfied: protobuf<4.0.0,>=3.15.3 in /usr/local/lib/python3.7/dist-packages (from ray[data]) (3.17.3)\n",
            "Requirement already satisfied: attrs in /usr/local/lib/python3.7/dist-packages (from ray[data]) (22.1.0)\n",
            "Requirement already satisfied: pandas>=1.3 in /usr/local/lib/python3.7/dist-packages (from ray[data]) (1.3.5)\n",
            "Requirement already satisfied: fsspec in /usr/local/lib/python3.7/dist-packages (from ray[data]) (2022.8.2)\n",
            "Requirement already satisfied: pyarrow<7.0.0,>=6.0.1 in /usr/local/lib/python3.7/dist-packages (from ray[data]) (6.0.1)\n",
            "Requirement already satisfied: six>=1.5.2 in /usr/local/lib/python3.7/dist-packages (from grpcio<=1.43.0,>=1.28.1->ray[data]) (1.15.0)\n",
            "Requirement already satisfied: python-dateutil>=2.7.3 in /usr/local/lib/python3.7/dist-packages (from pandas>=1.3->ray[data]) (2.8.2)\n",
            "Requirement already satisfied: pytz>=2017.3 in /usr/local/lib/python3.7/dist-packages (from pandas>=1.3->ray[data]) (2022.4)\n",
            "Requirement already satisfied: importlib-resources>=1.4.0 in /usr/local/lib/python3.7/dist-packages (from jsonschema->ray[data]) (5.9.0)\n",
            "Requirement already satisfied: pyrsistent!=0.17.0,!=0.17.1,!=0.17.2,>=0.14.0 in /usr/local/lib/python3.7/dist-packages (from jsonschema->ray[data]) (0.18.1)\n",
            "Requirement already satisfied: importlib-metadata in /usr/local/lib/python3.7/dist-packages (from jsonschema->ray[data]) (5.0.0)\n",
            "Requirement already satisfied: zipp>=3.1.0 in /usr/local/lib/python3.7/dist-packages (from importlib-resources>=1.4.0->jsonschema->ray[data]) (3.8.1)\n",
            "Requirement already satisfied: urllib3!=1.25.0,!=1.25.1,<1.26,>=1.21.1 in /usr/local/lib/python3.7/dist-packages (from requests->ray[data]) (1.24.3)\n",
            "Requirement already satisfied: idna<3,>=2.5 in /usr/local/lib/python3.7/dist-packages (from requests->ray[data]) (2.10)\n",
            "Requirement already satisfied: chardet<4,>=3.0.2 in /usr/local/lib/python3.7/dist-packages (from requests->ray[data]) (3.0.4)\n",
            "Requirement already satisfied: certifi>=2017.4.17 in /usr/local/lib/python3.7/dist-packages (from requests->ray[data]) (2022.9.24)\n",
            "Collecting platformdirs<3,>=2.4\n",
            "  Downloading platformdirs-2.5.2-py3-none-any.whl (14 kB)\n",
            "Collecting distlib<1,>=0.3.5\n",
            "  Downloading distlib-0.3.6-py2.py3-none-any.whl (468 kB)\n",
            "\u001b[K     |████████████████████████████████| 468 kB 67.8 MB/s \n",
            "\u001b[?25hInstalling collected packages: platformdirs, distlib, virtualenv, grpcio, ray\n",
            "  Attempting uninstall: grpcio\n",
            "    Found existing installation: grpcio 1.49.1\n",
            "    Uninstalling grpcio-1.49.1:\n",
            "      Successfully uninstalled grpcio-1.49.1\n",
            "Successfully installed distlib-0.3.6 grpcio-1.43.0 platformdirs-2.5.2 ray-2.0.0 virtualenv-20.16.5\n"
          ]
        }
      ]
    },
    {
      "cell_type": "markdown",
      "source": [
        "#Write testutility.py file"
      ],
      "metadata": {
        "id": "dBKGrJLZL46g"
      }
    },
    {
      "cell_type": "code",
      "execution_count": 2,
      "metadata": {
        "colab": {
          "base_uri": "https://localhost:8080/"
        },
        "id": "LsLc23nVI0Lr",
        "outputId": "54a8ffdf-213b-48ac-bb13-bfb8729c69c4"
      },
      "outputs": [
        {
          "output_type": "stream",
          "name": "stdout",
          "text": [
            "Writing testutility.py\n"
          ]
        }
      ],
      "source": [
        "%%writefile testutility.py\n",
        "import logging\n",
        "import os\n",
        "import subprocess\n",
        "import yaml\n",
        "import pandas as pd\n",
        "import datetime \n",
        "import gc\n",
        "import re\n",
        "\n",
        "\n",
        "################\n",
        "# File Reading #\n",
        "################\n",
        "\n",
        "def read_config_file(filepath):\n",
        "    with open(filepath, 'r') as stream:\n",
        "        try:\n",
        "            return yaml.safe_load(stream)\n",
        "        except yaml.YAMLError as exc:\n",
        "            logging.error(exc)\n",
        "\n",
        "\n",
        "def replacer(string, char):\n",
        "    pattern = char + '{2,}'\n",
        "    string = re.sub(pattern, char, string) \n",
        "    return string\n",
        "\n",
        "def col_header_val(df,table_config):\n",
        "    '''\n",
        "    replace whitespaces in the column\n",
        "    and standardized column names\n",
        "    '''\n",
        "    df.columns = df.columns.str.lower()\n",
        "    df.columns = df.columns.str.replace('[^\\w]','_',regex=True)\n",
        "    df.columns = list(map(lambda x: x.strip('_'), list(df.columns)))\n",
        "    df.columns = list(map(lambda x: replacer(x,'_'), list(df.columns)))\n",
        "    expected_col = list(map(lambda x: x.lower(),  table_config['columns']))\n",
        "    expected_col.sort()\n",
        "    df.columns =list(map(lambda x: x.lower(), list(df.columns)))\n",
        "    df = df.reindex(sorted(df.columns), axis=1)\n",
        "    if len(df.columns) == len(expected_col) and list(expected_col)  == list(df.columns):\n",
        "        print(\"column name and column length validation passed\")\n",
        "        return 1\n",
        "    else:\n",
        "        print(\"column name and column length validation failed\")\n",
        "        mismatched_columns_file = list(set(df.columns).difference(expected_col))\n",
        "        print(\"Following File columns are not in the YAML file\",mismatched_columns_file)\n",
        "        missing_YAML_file = list(set(expected_col).difference(df.columns))\n",
        "        print(\"Following YAML columns are not in the file uploaded\",missing_YAML_file)\n",
        "        logging.info(f'df columns: {df.columns}')\n",
        "        logging.info(f'expected columns: {expected_col}')\n",
        "        return 0"
      ]
    },
    {
      "cell_type": "markdown",
      "source": [
        "#Write the YAML file"
      ],
      "metadata": {
        "id": "4x77wcD0JurA"
      }
    },
    {
      "cell_type": "code",
      "source": [
        "%%writefile file.yaml\n",
        "file_type: csv\n",
        "dataset_name: testfile\n",
        "file_name: price_paid_records\n",
        "table_name: edsurv\n",
        "inbound_delimiter: \",\"\n",
        "outbound_delimiter: \"|\"\n",
        "skip_leading_rows: 1\n",
        "columns: \n",
        "    - Transaction_unique_identifier\n",
        "    - Price\n",
        "    - Date_of_Transfer\n",
        "    - Property_Type\n",
        "    - Old_New  \n",
        "    - Duration \n",
        "    - Town_City\n",
        "    - District\n",
        "    - County\n",
        "    - PPDCategory_Type\n",
        "    - Record_Status_monthly_file_only"
      ],
      "metadata": {
        "colab": {
          "base_uri": "https://localhost:8080/"
        },
        "id": "q_0ArcYfJziB",
        "outputId": "886ba6f6-88ba-4345-fc45-76ba5e88c4c5"
      },
      "execution_count": 3,
      "outputs": [
        {
          "output_type": "stream",
          "name": "stdout",
          "text": [
            "Writing file.yaml\n"
          ]
        }
      ]
    },
    {
      "cell_type": "code",
      "source": [
        "# Read config file\n",
        "import testutility as util\n",
        "config_data = util.read_config_file(\"file.yaml\")"
      ],
      "metadata": {
        "id": "H8kg5bcEJ_6y"
      },
      "execution_count": 4,
      "outputs": []
    },
    {
      "cell_type": "code",
      "source": [
        "config_data['inbound_delimiter']"
      ],
      "metadata": {
        "colab": {
          "base_uri": "https://localhost:8080/",
          "height": 36
        },
        "id": "v1Yvv43iSTxu",
        "outputId": "efeff57a-1a37-4f9a-cbbe-25d5d7ff94e0"
      },
      "execution_count": 5,
      "outputs": [
        {
          "output_type": "execute_result",
          "data": {
            "text/plain": [
              "','"
            ],
            "application/vnd.google.colaboratory.intrinsic+json": {
              "type": "string"
            }
          },
          "metadata": {},
          "execution_count": 5
        }
      ]
    },
    {
      "cell_type": "code",
      "source": [],
      "metadata": {
        "id": "HYa3MF4yUGNj"
      },
      "execution_count": 5,
      "outputs": []
    },
    {
      "cell_type": "code",
      "source": [
        "#inspecting data of config file\n",
        "config_data\n"
      ],
      "metadata": {
        "colab": {
          "base_uri": "https://localhost:8080/"
        },
        "id": "dkuWEhQLSW7U",
        "outputId": "d19ea560-7862-4fc3-d62d-e25b3a765591"
      },
      "execution_count": 6,
      "outputs": [
        {
          "output_type": "execute_result",
          "data": {
            "text/plain": [
              "{'file_type': 'csv',\n",
              " 'dataset_name': 'testfile',\n",
              " 'file_name': 'price_paid_records',\n",
              " 'table_name': 'edsurv',\n",
              " 'inbound_delimiter': ',',\n",
              " 'outbound_delimiter': '|',\n",
              " 'skip_leading_rows': 1,\n",
              " 'columns': ['Transaction_unique_identifier',\n",
              "  'Price',\n",
              "  'Date_of_Transfer',\n",
              "  'Property_Type',\n",
              "  'Old_New',\n",
              "  'Duration',\n",
              "  'Town_City',\n",
              "  'District',\n",
              "  'County',\n",
              "  'PPDCategory_Type',\n",
              "  'Record_Status_monthly_file_only']}"
            ]
          },
          "metadata": {},
          "execution_count": 6
        }
      ]
    },
    {
      "cell_type": "code",
      "source": [
        "\n",
        "# read the file using config file and Pandas\n",
        "start = time.time()\n",
        "file_type = config_data['file_type']\n",
        "source_file = \"/content/drive/MyDrive/Test_Ingestion/\" + config_data['file_name'] + f'.{file_type}'\n",
        "df = pd.read_csv(source_file,config_data['inbound_delimiter'])\n",
        "end = time.time()\n",
        "print(\"Computational time in reading the file using Pandas:\",end-start)\n",
        "\n",
        "df.head()"
      ],
      "metadata": {
        "colab": {
          "base_uri": "https://localhost:8080/",
          "height": 389
        },
        "id": "HaxvByL7S6Nj",
        "outputId": "1841435c-f307-4b96-9bd7-c2a394d798e2"
      },
      "execution_count": 7,
      "outputs": [
        {
          "output_type": "stream",
          "name": "stderr",
          "text": [
            "FutureWarning: In a future version of pandas all arguments of read_csv except for the argument 'filepath_or_buffer' will be keyword-only\n"
          ]
        },
        {
          "output_type": "stream",
          "name": "stdout",
          "text": [
            "Computational time in reading the file using Pandas: 61.910961627960205\n"
          ]
        },
        {
          "output_type": "execute_result",
          "data": {
            "text/plain": [
              "            Transaction unique identifier  Price  Date of Transfer  \\\n",
              "0  {81B82214-7FBC-4129-9F6B-4956B4A663AD}  25000  1995-08-18 00:00   \n",
              "1  {8046EC72-1466-42D6-A753-4956BF7CD8A2}  42500  1995-08-09 00:00   \n",
              "2  {278D581A-5BF3-4FCE-AF62-4956D87691E6}  45000  1995-06-30 00:00   \n",
              "3  {1D861C06-A416-4865-973C-4956DB12CD12}  43150  1995-11-24 00:00   \n",
              "4  {DD8645FD-A815-43A6-A7BA-4956E58F1874}  18899  1995-06-23 00:00   \n",
              "\n",
              "  Property Type Old/New Duration   Town/City            District  \\\n",
              "0             T       N        F      OLDHAM              OLDHAM   \n",
              "1             S       N        F       GRAYS            THURROCK   \n",
              "2             T       N        F  HIGHBRIDGE           SEDGEMOOR   \n",
              "3             T       N        F     BEDFORD  NORTH BEDFORDSHIRE   \n",
              "4             S       N        F   WAKEFIELD               LEEDS   \n",
              "\n",
              "               County PPDCategory Type Record Status - monthly file only  \n",
              "0  GREATER MANCHESTER                A                                 A  \n",
              "1            THURROCK                A                                 A  \n",
              "2            SOMERSET                A                                 A  \n",
              "3        BEDFORDSHIRE                A                                 A  \n",
              "4      WEST YORKSHIRE                A                                 A  "
            ],
            "text/html": [
              "\n",
              "  <div id=\"df-93b01473-2f29-4e25-9ef4-74121e85a2cc\">\n",
              "    <div class=\"colab-df-container\">\n",
              "      <div>\n",
              "<style scoped>\n",
              "    .dataframe tbody tr th:only-of-type {\n",
              "        vertical-align: middle;\n",
              "    }\n",
              "\n",
              "    .dataframe tbody tr th {\n",
              "        vertical-align: top;\n",
              "    }\n",
              "\n",
              "    .dataframe thead th {\n",
              "        text-align: right;\n",
              "    }\n",
              "</style>\n",
              "<table border=\"1\" class=\"dataframe\">\n",
              "  <thead>\n",
              "    <tr style=\"text-align: right;\">\n",
              "      <th></th>\n",
              "      <th>Transaction unique identifier</th>\n",
              "      <th>Price</th>\n",
              "      <th>Date of Transfer</th>\n",
              "      <th>Property Type</th>\n",
              "      <th>Old/New</th>\n",
              "      <th>Duration</th>\n",
              "      <th>Town/City</th>\n",
              "      <th>District</th>\n",
              "      <th>County</th>\n",
              "      <th>PPDCategory Type</th>\n",
              "      <th>Record Status - monthly file only</th>\n",
              "    </tr>\n",
              "  </thead>\n",
              "  <tbody>\n",
              "    <tr>\n",
              "      <th>0</th>\n",
              "      <td>{81B82214-7FBC-4129-9F6B-4956B4A663AD}</td>\n",
              "      <td>25000</td>\n",
              "      <td>1995-08-18 00:00</td>\n",
              "      <td>T</td>\n",
              "      <td>N</td>\n",
              "      <td>F</td>\n",
              "      <td>OLDHAM</td>\n",
              "      <td>OLDHAM</td>\n",
              "      <td>GREATER MANCHESTER</td>\n",
              "      <td>A</td>\n",
              "      <td>A</td>\n",
              "    </tr>\n",
              "    <tr>\n",
              "      <th>1</th>\n",
              "      <td>{8046EC72-1466-42D6-A753-4956BF7CD8A2}</td>\n",
              "      <td>42500</td>\n",
              "      <td>1995-08-09 00:00</td>\n",
              "      <td>S</td>\n",
              "      <td>N</td>\n",
              "      <td>F</td>\n",
              "      <td>GRAYS</td>\n",
              "      <td>THURROCK</td>\n",
              "      <td>THURROCK</td>\n",
              "      <td>A</td>\n",
              "      <td>A</td>\n",
              "    </tr>\n",
              "    <tr>\n",
              "      <th>2</th>\n",
              "      <td>{278D581A-5BF3-4FCE-AF62-4956D87691E6}</td>\n",
              "      <td>45000</td>\n",
              "      <td>1995-06-30 00:00</td>\n",
              "      <td>T</td>\n",
              "      <td>N</td>\n",
              "      <td>F</td>\n",
              "      <td>HIGHBRIDGE</td>\n",
              "      <td>SEDGEMOOR</td>\n",
              "      <td>SOMERSET</td>\n",
              "      <td>A</td>\n",
              "      <td>A</td>\n",
              "    </tr>\n",
              "    <tr>\n",
              "      <th>3</th>\n",
              "      <td>{1D861C06-A416-4865-973C-4956DB12CD12}</td>\n",
              "      <td>43150</td>\n",
              "      <td>1995-11-24 00:00</td>\n",
              "      <td>T</td>\n",
              "      <td>N</td>\n",
              "      <td>F</td>\n",
              "      <td>BEDFORD</td>\n",
              "      <td>NORTH BEDFORDSHIRE</td>\n",
              "      <td>BEDFORDSHIRE</td>\n",
              "      <td>A</td>\n",
              "      <td>A</td>\n",
              "    </tr>\n",
              "    <tr>\n",
              "      <th>4</th>\n",
              "      <td>{DD8645FD-A815-43A6-A7BA-4956E58F1874}</td>\n",
              "      <td>18899</td>\n",
              "      <td>1995-06-23 00:00</td>\n",
              "      <td>S</td>\n",
              "      <td>N</td>\n",
              "      <td>F</td>\n",
              "      <td>WAKEFIELD</td>\n",
              "      <td>LEEDS</td>\n",
              "      <td>WEST YORKSHIRE</td>\n",
              "      <td>A</td>\n",
              "      <td>A</td>\n",
              "    </tr>\n",
              "  </tbody>\n",
              "</table>\n",
              "</div>\n",
              "      <button class=\"colab-df-convert\" onclick=\"convertToInteractive('df-93b01473-2f29-4e25-9ef4-74121e85a2cc')\"\n",
              "              title=\"Convert this dataframe to an interactive table.\"\n",
              "              style=\"display:none;\">\n",
              "        \n",
              "  <svg xmlns=\"http://www.w3.org/2000/svg\" height=\"24px\"viewBox=\"0 0 24 24\"\n",
              "       width=\"24px\">\n",
              "    <path d=\"M0 0h24v24H0V0z\" fill=\"none\"/>\n",
              "    <path d=\"M18.56 5.44l.94 2.06.94-2.06 2.06-.94-2.06-.94-.94-2.06-.94 2.06-2.06.94zm-11 1L8.5 8.5l.94-2.06 2.06-.94-2.06-.94L8.5 2.5l-.94 2.06-2.06.94zm10 10l.94 2.06.94-2.06 2.06-.94-2.06-.94-.94-2.06-.94 2.06-2.06.94z\"/><path d=\"M17.41 7.96l-1.37-1.37c-.4-.4-.92-.59-1.43-.59-.52 0-1.04.2-1.43.59L10.3 9.45l-7.72 7.72c-.78.78-.78 2.05 0 2.83L4 21.41c.39.39.9.59 1.41.59.51 0 1.02-.2 1.41-.59l7.78-7.78 2.81-2.81c.8-.78.8-2.07 0-2.86zM5.41 20L4 18.59l7.72-7.72 1.47 1.35L5.41 20z\"/>\n",
              "  </svg>\n",
              "      </button>\n",
              "      \n",
              "  <style>\n",
              "    .colab-df-container {\n",
              "      display:flex;\n",
              "      flex-wrap:wrap;\n",
              "      gap: 12px;\n",
              "    }\n",
              "\n",
              "    .colab-df-convert {\n",
              "      background-color: #E8F0FE;\n",
              "      border: none;\n",
              "      border-radius: 50%;\n",
              "      cursor: pointer;\n",
              "      display: none;\n",
              "      fill: #1967D2;\n",
              "      height: 32px;\n",
              "      padding: 0 0 0 0;\n",
              "      width: 32px;\n",
              "    }\n",
              "\n",
              "    .colab-df-convert:hover {\n",
              "      background-color: #E2EBFA;\n",
              "      box-shadow: 0px 1px 2px rgba(60, 64, 67, 0.3), 0px 1px 3px 1px rgba(60, 64, 67, 0.15);\n",
              "      fill: #174EA6;\n",
              "    }\n",
              "\n",
              "    [theme=dark] .colab-df-convert {\n",
              "      background-color: #3B4455;\n",
              "      fill: #D2E3FC;\n",
              "    }\n",
              "\n",
              "    [theme=dark] .colab-df-convert:hover {\n",
              "      background-color: #434B5C;\n",
              "      box-shadow: 0px 1px 3px 1px rgba(0, 0, 0, 0.15);\n",
              "      filter: drop-shadow(0px 1px 2px rgba(0, 0, 0, 0.3));\n",
              "      fill: #FFFFFF;\n",
              "    }\n",
              "  </style>\n",
              "\n",
              "      <script>\n",
              "        const buttonEl =\n",
              "          document.querySelector('#df-93b01473-2f29-4e25-9ef4-74121e85a2cc button.colab-df-convert');\n",
              "        buttonEl.style.display =\n",
              "          google.colab.kernel.accessAllowed ? 'block' : 'none';\n",
              "\n",
              "        async function convertToInteractive(key) {\n",
              "          const element = document.querySelector('#df-93b01473-2f29-4e25-9ef4-74121e85a2cc');\n",
              "          const dataTable =\n",
              "            await google.colab.kernel.invokeFunction('convertToInteractive',\n",
              "                                                     [key], {});\n",
              "          if (!dataTable) return;\n",
              "\n",
              "          const docLinkHtml = 'Like what you see? Visit the ' +\n",
              "            '<a target=\"_blank\" href=https://colab.research.google.com/notebooks/data_table.ipynb>data table notebook</a>'\n",
              "            + ' to learn more about interactive tables.';\n",
              "          element.innerHTML = '';\n",
              "          dataTable['output_type'] = 'display_data';\n",
              "          await google.colab.output.renderOutput(dataTable, element);\n",
              "          const docLink = document.createElement('div');\n",
              "          docLink.innerHTML = docLinkHtml;\n",
              "          element.appendChild(docLink);\n",
              "        }\n",
              "      </script>\n",
              "    </div>\n",
              "  </div>\n",
              "  "
            ]
          },
          "metadata": {},
          "execution_count": 7
        }
      ]
    },
    {
      "cell_type": "code",
      "source": [
        "# read the file using config file and Dask\n",
        "\n",
        "start = time.time()\n",
        "file_type = config_data['file_type']\n",
        "source_file = \"/content/drive/MyDrive/Test_Ingestion/\" + config_data['file_name'] + f'.{file_type}'\n",
        "dask_df = dd.read_csv(source_file)\n",
        "end = time.time()\n",
        "print(\"Computational time in reading the file using Pandas:\",end-start)\n",
        "\n",
        "dask_df.head()"
      ],
      "metadata": {
        "colab": {
          "base_uri": "https://localhost:8080/",
          "height": 372
        },
        "id": "5-y3cEvBT5z3",
        "outputId": "8a36c222-eea4-4204-ef25-b1aabfdf76e9"
      },
      "execution_count": 8,
      "outputs": [
        {
          "output_type": "stream",
          "name": "stdout",
          "text": [
            "Computational time in reading the file using Pandas: 0.2768895626068115\n"
          ]
        },
        {
          "output_type": "execute_result",
          "data": {
            "text/plain": [
              "            Transaction unique identifier  Price  Date of Transfer  \\\n",
              "0  {81B82214-7FBC-4129-9F6B-4956B4A663AD}  25000  1995-08-18 00:00   \n",
              "1  {8046EC72-1466-42D6-A753-4956BF7CD8A2}  42500  1995-08-09 00:00   \n",
              "2  {278D581A-5BF3-4FCE-AF62-4956D87691E6}  45000  1995-06-30 00:00   \n",
              "3  {1D861C06-A416-4865-973C-4956DB12CD12}  43150  1995-11-24 00:00   \n",
              "4  {DD8645FD-A815-43A6-A7BA-4956E58F1874}  18899  1995-06-23 00:00   \n",
              "\n",
              "  Property Type Old/New Duration   Town/City            District  \\\n",
              "0             T       N        F      OLDHAM              OLDHAM   \n",
              "1             S       N        F       GRAYS            THURROCK   \n",
              "2             T       N        F  HIGHBRIDGE           SEDGEMOOR   \n",
              "3             T       N        F     BEDFORD  NORTH BEDFORDSHIRE   \n",
              "4             S       N        F   WAKEFIELD               LEEDS   \n",
              "\n",
              "               County PPDCategory Type Record Status - monthly file only  \n",
              "0  GREATER MANCHESTER                A                                 A  \n",
              "1            THURROCK                A                                 A  \n",
              "2            SOMERSET                A                                 A  \n",
              "3        BEDFORDSHIRE                A                                 A  \n",
              "4      WEST YORKSHIRE                A                                 A  "
            ],
            "text/html": [
              "\n",
              "  <div id=\"df-f0e1a222-de62-49cd-b59c-3b89bc95d189\">\n",
              "    <div class=\"colab-df-container\">\n",
              "      <div>\n",
              "<style scoped>\n",
              "    .dataframe tbody tr th:only-of-type {\n",
              "        vertical-align: middle;\n",
              "    }\n",
              "\n",
              "    .dataframe tbody tr th {\n",
              "        vertical-align: top;\n",
              "    }\n",
              "\n",
              "    .dataframe thead th {\n",
              "        text-align: right;\n",
              "    }\n",
              "</style>\n",
              "<table border=\"1\" class=\"dataframe\">\n",
              "  <thead>\n",
              "    <tr style=\"text-align: right;\">\n",
              "      <th></th>\n",
              "      <th>Transaction unique identifier</th>\n",
              "      <th>Price</th>\n",
              "      <th>Date of Transfer</th>\n",
              "      <th>Property Type</th>\n",
              "      <th>Old/New</th>\n",
              "      <th>Duration</th>\n",
              "      <th>Town/City</th>\n",
              "      <th>District</th>\n",
              "      <th>County</th>\n",
              "      <th>PPDCategory Type</th>\n",
              "      <th>Record Status - monthly file only</th>\n",
              "    </tr>\n",
              "  </thead>\n",
              "  <tbody>\n",
              "    <tr>\n",
              "      <th>0</th>\n",
              "      <td>{81B82214-7FBC-4129-9F6B-4956B4A663AD}</td>\n",
              "      <td>25000</td>\n",
              "      <td>1995-08-18 00:00</td>\n",
              "      <td>T</td>\n",
              "      <td>N</td>\n",
              "      <td>F</td>\n",
              "      <td>OLDHAM</td>\n",
              "      <td>OLDHAM</td>\n",
              "      <td>GREATER MANCHESTER</td>\n",
              "      <td>A</td>\n",
              "      <td>A</td>\n",
              "    </tr>\n",
              "    <tr>\n",
              "      <th>1</th>\n",
              "      <td>{8046EC72-1466-42D6-A753-4956BF7CD8A2}</td>\n",
              "      <td>42500</td>\n",
              "      <td>1995-08-09 00:00</td>\n",
              "      <td>S</td>\n",
              "      <td>N</td>\n",
              "      <td>F</td>\n",
              "      <td>GRAYS</td>\n",
              "      <td>THURROCK</td>\n",
              "      <td>THURROCK</td>\n",
              "      <td>A</td>\n",
              "      <td>A</td>\n",
              "    </tr>\n",
              "    <tr>\n",
              "      <th>2</th>\n",
              "      <td>{278D581A-5BF3-4FCE-AF62-4956D87691E6}</td>\n",
              "      <td>45000</td>\n",
              "      <td>1995-06-30 00:00</td>\n",
              "      <td>T</td>\n",
              "      <td>N</td>\n",
              "      <td>F</td>\n",
              "      <td>HIGHBRIDGE</td>\n",
              "      <td>SEDGEMOOR</td>\n",
              "      <td>SOMERSET</td>\n",
              "      <td>A</td>\n",
              "      <td>A</td>\n",
              "    </tr>\n",
              "    <tr>\n",
              "      <th>3</th>\n",
              "      <td>{1D861C06-A416-4865-973C-4956DB12CD12}</td>\n",
              "      <td>43150</td>\n",
              "      <td>1995-11-24 00:00</td>\n",
              "      <td>T</td>\n",
              "      <td>N</td>\n",
              "      <td>F</td>\n",
              "      <td>BEDFORD</td>\n",
              "      <td>NORTH BEDFORDSHIRE</td>\n",
              "      <td>BEDFORDSHIRE</td>\n",
              "      <td>A</td>\n",
              "      <td>A</td>\n",
              "    </tr>\n",
              "    <tr>\n",
              "      <th>4</th>\n",
              "      <td>{DD8645FD-A815-43A6-A7BA-4956E58F1874}</td>\n",
              "      <td>18899</td>\n",
              "      <td>1995-06-23 00:00</td>\n",
              "      <td>S</td>\n",
              "      <td>N</td>\n",
              "      <td>F</td>\n",
              "      <td>WAKEFIELD</td>\n",
              "      <td>LEEDS</td>\n",
              "      <td>WEST YORKSHIRE</td>\n",
              "      <td>A</td>\n",
              "      <td>A</td>\n",
              "    </tr>\n",
              "  </tbody>\n",
              "</table>\n",
              "</div>\n",
              "      <button class=\"colab-df-convert\" onclick=\"convertToInteractive('df-f0e1a222-de62-49cd-b59c-3b89bc95d189')\"\n",
              "              title=\"Convert this dataframe to an interactive table.\"\n",
              "              style=\"display:none;\">\n",
              "        \n",
              "  <svg xmlns=\"http://www.w3.org/2000/svg\" height=\"24px\"viewBox=\"0 0 24 24\"\n",
              "       width=\"24px\">\n",
              "    <path d=\"M0 0h24v24H0V0z\" fill=\"none\"/>\n",
              "    <path d=\"M18.56 5.44l.94 2.06.94-2.06 2.06-.94-2.06-.94-.94-2.06-.94 2.06-2.06.94zm-11 1L8.5 8.5l.94-2.06 2.06-.94-2.06-.94L8.5 2.5l-.94 2.06-2.06.94zm10 10l.94 2.06.94-2.06 2.06-.94-2.06-.94-.94-2.06-.94 2.06-2.06.94z\"/><path d=\"M17.41 7.96l-1.37-1.37c-.4-.4-.92-.59-1.43-.59-.52 0-1.04.2-1.43.59L10.3 9.45l-7.72 7.72c-.78.78-.78 2.05 0 2.83L4 21.41c.39.39.9.59 1.41.59.51 0 1.02-.2 1.41-.59l7.78-7.78 2.81-2.81c.8-.78.8-2.07 0-2.86zM5.41 20L4 18.59l7.72-7.72 1.47 1.35L5.41 20z\"/>\n",
              "  </svg>\n",
              "      </button>\n",
              "      \n",
              "  <style>\n",
              "    .colab-df-container {\n",
              "      display:flex;\n",
              "      flex-wrap:wrap;\n",
              "      gap: 12px;\n",
              "    }\n",
              "\n",
              "    .colab-df-convert {\n",
              "      background-color: #E8F0FE;\n",
              "      border: none;\n",
              "      border-radius: 50%;\n",
              "      cursor: pointer;\n",
              "      display: none;\n",
              "      fill: #1967D2;\n",
              "      height: 32px;\n",
              "      padding: 0 0 0 0;\n",
              "      width: 32px;\n",
              "    }\n",
              "\n",
              "    .colab-df-convert:hover {\n",
              "      background-color: #E2EBFA;\n",
              "      box-shadow: 0px 1px 2px rgba(60, 64, 67, 0.3), 0px 1px 3px 1px rgba(60, 64, 67, 0.15);\n",
              "      fill: #174EA6;\n",
              "    }\n",
              "\n",
              "    [theme=dark] .colab-df-convert {\n",
              "      background-color: #3B4455;\n",
              "      fill: #D2E3FC;\n",
              "    }\n",
              "\n",
              "    [theme=dark] .colab-df-convert:hover {\n",
              "      background-color: #434B5C;\n",
              "      box-shadow: 0px 1px 3px 1px rgba(0, 0, 0, 0.15);\n",
              "      filter: drop-shadow(0px 1px 2px rgba(0, 0, 0, 0.3));\n",
              "      fill: #FFFFFF;\n",
              "    }\n",
              "  </style>\n",
              "\n",
              "      <script>\n",
              "        const buttonEl =\n",
              "          document.querySelector('#df-f0e1a222-de62-49cd-b59c-3b89bc95d189 button.colab-df-convert');\n",
              "        buttonEl.style.display =\n",
              "          google.colab.kernel.accessAllowed ? 'block' : 'none';\n",
              "\n",
              "        async function convertToInteractive(key) {\n",
              "          const element = document.querySelector('#df-f0e1a222-de62-49cd-b59c-3b89bc95d189');\n",
              "          const dataTable =\n",
              "            await google.colab.kernel.invokeFunction('convertToInteractive',\n",
              "                                                     [key], {});\n",
              "          if (!dataTable) return;\n",
              "\n",
              "          const docLinkHtml = 'Like what you see? Visit the ' +\n",
              "            '<a target=\"_blank\" href=https://colab.research.google.com/notebooks/data_table.ipynb>data table notebook</a>'\n",
              "            + ' to learn more about interactive tables.';\n",
              "          element.innerHTML = '';\n",
              "          dataTable['output_type'] = 'display_data';\n",
              "          await google.colab.output.renderOutput(dataTable, element);\n",
              "          const docLink = document.createElement('div');\n",
              "          docLink.innerHTML = docLinkHtml;\n",
              "          element.appendChild(docLink);\n",
              "        }\n",
              "      </script>\n",
              "    </div>\n",
              "  </div>\n",
              "  "
            ]
          },
          "metadata": {},
          "execution_count": 8
        }
      ]
    },
    {
      "cell_type": "markdown",
      "source": [
        "Dask performed the task in lesser time compared to Pandas."
      ],
      "metadata": {
        "id": "WQZfb_R8gHHt"
      }
    },
    {
      "cell_type": "code",
      "source": [
        "#Removing special character , white spaces from the col name\n",
        "import re\n",
        "\n",
        "def replacer(string, char):\n",
        "    pattern = char + '{2,}'\n",
        "    string = re.sub(pattern, char, string) \n",
        "    return string\n",
        "\n",
        "df.columns = df.columns.str.lower()\n",
        "df.columns = df.columns.str.replace('[^\\w]','_',regex=True)\n",
        "df.columns = list(map(lambda x: x.strip('_'), list(df.columns)))\n",
        "df.columns = list(map(lambda x: replacer(x,'_'), list(df.columns)))\n",
        "df.columns"
      ],
      "metadata": {
        "colab": {
          "base_uri": "https://localhost:8080/"
        },
        "id": "g0EohUHYheE4",
        "outputId": "8f382988-5cd7-4564-ee3b-9f90c2d8a1fc"
      },
      "execution_count": 9,
      "outputs": [
        {
          "output_type": "execute_result",
          "data": {
            "text/plain": [
              "Index(['transaction_unique_identifier', 'price', 'date_of_transfer',\n",
              "       'property_type', 'old_new', 'duration', 'town_city', 'district',\n",
              "       'county', 'ppdcategory_type', 'record_status_monthly_file_only'],\n",
              "      dtype='object')"
            ]
          },
          "metadata": {},
          "execution_count": 9
        }
      ]
    },
    {
      "cell_type": "code",
      "source": [
        "df.columns"
      ],
      "metadata": {
        "colab": {
          "base_uri": "https://localhost:8080/"
        },
        "id": "kHBNxxI9iMpD",
        "outputId": "3843c661-a862-41e5-994e-3fd8d4c8e71b"
      },
      "execution_count": 10,
      "outputs": [
        {
          "output_type": "execute_result",
          "data": {
            "text/plain": [
              "Index(['transaction_unique_identifier', 'price', 'date_of_transfer',\n",
              "       'property_type', 'old_new', 'duration', 'town_city', 'district',\n",
              "       'county', 'ppdcategory_type', 'record_status_monthly_file_only'],\n",
              "      dtype='object')"
            ]
          },
          "metadata": {},
          "execution_count": 10
        }
      ]
    },
    {
      "cell_type": "code",
      "source": [
        "#validate the header of the file\n",
        "\n",
        "util.col_header_val(df,config_data)"
      ],
      "metadata": {
        "colab": {
          "base_uri": "https://localhost:8080/"
        },
        "id": "vuw_mrw-fT4W",
        "outputId": "10851cb7-fe9a-4ba9-9169-bd6fada7da6a"
      },
      "execution_count": 11,
      "outputs": [
        {
          "output_type": "stream",
          "name": "stdout",
          "text": [
            "column name and column length validation passed\n"
          ]
        },
        {
          "output_type": "execute_result",
          "data": {
            "text/plain": [
              "1"
            ]
          },
          "metadata": {},
          "execution_count": 11
        }
      ]
    },
    {
      "cell_type": "code",
      "source": [
        "from distributed import config\n",
        "#Comparing the column names of YAML file and Input File\n",
        "print(\"columns of the input dataset are:\" ,df.columns)\n",
        "print(\"columns of YAML file are:\" ,config_data['columns'])\n"
      ],
      "metadata": {
        "colab": {
          "base_uri": "https://localhost:8080/"
        },
        "id": "g9ALIXnHbQl2",
        "outputId": "031235a0-4d18-406e-8590-765ed35c2171"
      },
      "execution_count": 12,
      "outputs": [
        {
          "output_type": "stream",
          "name": "stdout",
          "text": [
            "columns of the input dataset are: Index(['transaction_unique_identifier', 'price', 'date_of_transfer',\n",
            "       'property_type', 'old_new', 'duration', 'town_city', 'district',\n",
            "       'county', 'ppdcategory_type', 'record_status_monthly_file_only'],\n",
            "      dtype='object')\n",
            "columns of YAML file are: ['Transaction_unique_identifier', 'Price', 'Date_of_Transfer', 'Property_Type', 'Old_New', 'Duration', 'Town_City', 'District', 'County', 'PPDCategory_Type', 'Record_Status_monthly_file_only']\n",
            "[False False False False False False False False False False False]\n"
          ]
        }
      ]
    },
    {
      "cell_type": "code",
      "source": [
        "if util.col_header_val(df,config_data)==0:\n",
        "    print(\"validation failed\")\n",
        "    # write code to reject the file\n",
        "else:\n",
        "    print(\"col validation passed\")\n",
        "    # write the code to perform further action\n",
        "    # in the pipleine"
      ],
      "metadata": {
        "colab": {
          "base_uri": "https://localhost:8080/"
        },
        "id": "n6jWPXH7l84-",
        "outputId": "94dd7724-0107-40de-a8d6-6c2444499ac1"
      },
      "execution_count": 13,
      "outputs": [
        {
          "output_type": "stream",
          "name": "stdout",
          "text": [
            "column name and column length validation passed\n",
            "col validation passed\n"
          ]
        }
      ]
    },
    {
      "cell_type": "code",
      "source": [
        "#comparing the length of the columns in YAML \n",
        "print(\"Length of column of input data file: \",len(df.columns))\n",
        "print(\"Length of column of YAML file: \",len(config_data['columns']))\n",
        "if (len(df.columns)==len(config_data['columns'])):\n",
        "  print(\"Length of input data column and length of YAML file columns are equal\")\n",
        "else:\n",
        "    print(\"Length of input data column and length of YAML file columns are not equal\")\n"
      ],
      "metadata": {
        "colab": {
          "base_uri": "https://localhost:8080/"
        },
        "id": "7Tl3bzKHmcgv",
        "outputId": "bd271fa1-ccc4-4d38-80d1-24eb9eb94d12"
      },
      "execution_count": 18,
      "outputs": [
        {
          "output_type": "stream",
          "name": "stdout",
          "text": [
            "Length of column of input data file:  11\n",
            "Length of column of YAML file:  11\n",
            "Length of input data column and length of YAML file columns are equal\n"
          ]
        }
      ]
    },
    {
      "cell_type": "code",
      "source": [
        "gz_file= df.to_csv('gz_compressed.gz',\n",
        "          sep = '|',\n",
        "          header = True,\n",
        "          index = False,\n",
        "          #quoting = csv.QUOTE_ALL,\n",
        "          compression = 'gzip',\n",
        "          quotechar = '\"',\n",
        "          doublequote = True)\n"
      ],
      "metadata": {
        "id": "F92mNedhqx1S"
      },
      "execution_count": 15,
      "outputs": []
    },
    {
      "cell_type": "code",
      "source": [
        "gz_file_read=pd.read_csv('/content/gz_compressed.gz', compression='gzip',  sep='|')"
      ],
      "metadata": {
        "id": "Qw8jFuoUwN23"
      },
      "execution_count": 16,
      "outputs": []
    },
    {
      "cell_type": "code",
      "source": [
        "gz_file_read.head()"
      ],
      "metadata": {
        "colab": {
          "base_uri": "https://localhost:8080/",
          "height": 357
        },
        "id": "VNw4Kx62zN9o",
        "outputId": "f8fecb42-30b6-4629-b63f-8c788fb5844a"
      },
      "execution_count": 17,
      "outputs": [
        {
          "output_type": "execute_result",
          "data": {
            "text/plain": [
              "            transaction_unique_identifier  price  date_of_transfer  \\\n",
              "0  {81B82214-7FBC-4129-9F6B-4956B4A663AD}  25000  1995-08-18 00:00   \n",
              "1  {8046EC72-1466-42D6-A753-4956BF7CD8A2}  42500  1995-08-09 00:00   \n",
              "2  {278D581A-5BF3-4FCE-AF62-4956D87691E6}  45000  1995-06-30 00:00   \n",
              "3  {1D861C06-A416-4865-973C-4956DB12CD12}  43150  1995-11-24 00:00   \n",
              "4  {DD8645FD-A815-43A6-A7BA-4956E58F1874}  18899  1995-06-23 00:00   \n",
              "\n",
              "  property_type old_new duration   town_city            district  \\\n",
              "0             T       N        F      OLDHAM              OLDHAM   \n",
              "1             S       N        F       GRAYS            THURROCK   \n",
              "2             T       N        F  HIGHBRIDGE           SEDGEMOOR   \n",
              "3             T       N        F     BEDFORD  NORTH BEDFORDSHIRE   \n",
              "4             S       N        F   WAKEFIELD               LEEDS   \n",
              "\n",
              "               county ppdcategory_type record_status_monthly_file_only  \n",
              "0  GREATER MANCHESTER                A                               A  \n",
              "1            THURROCK                A                               A  \n",
              "2            SOMERSET                A                               A  \n",
              "3        BEDFORDSHIRE                A                               A  \n",
              "4      WEST YORKSHIRE                A                               A  "
            ],
            "text/html": [
              "\n",
              "  <div id=\"df-8b8243c5-bb9f-49ae-8fdb-3cebc8a92dcd\">\n",
              "    <div class=\"colab-df-container\">\n",
              "      <div>\n",
              "<style scoped>\n",
              "    .dataframe tbody tr th:only-of-type {\n",
              "        vertical-align: middle;\n",
              "    }\n",
              "\n",
              "    .dataframe tbody tr th {\n",
              "        vertical-align: top;\n",
              "    }\n",
              "\n",
              "    .dataframe thead th {\n",
              "        text-align: right;\n",
              "    }\n",
              "</style>\n",
              "<table border=\"1\" class=\"dataframe\">\n",
              "  <thead>\n",
              "    <tr style=\"text-align: right;\">\n",
              "      <th></th>\n",
              "      <th>transaction_unique_identifier</th>\n",
              "      <th>price</th>\n",
              "      <th>date_of_transfer</th>\n",
              "      <th>property_type</th>\n",
              "      <th>old_new</th>\n",
              "      <th>duration</th>\n",
              "      <th>town_city</th>\n",
              "      <th>district</th>\n",
              "      <th>county</th>\n",
              "      <th>ppdcategory_type</th>\n",
              "      <th>record_status_monthly_file_only</th>\n",
              "    </tr>\n",
              "  </thead>\n",
              "  <tbody>\n",
              "    <tr>\n",
              "      <th>0</th>\n",
              "      <td>{81B82214-7FBC-4129-9F6B-4956B4A663AD}</td>\n",
              "      <td>25000</td>\n",
              "      <td>1995-08-18 00:00</td>\n",
              "      <td>T</td>\n",
              "      <td>N</td>\n",
              "      <td>F</td>\n",
              "      <td>OLDHAM</td>\n",
              "      <td>OLDHAM</td>\n",
              "      <td>GREATER MANCHESTER</td>\n",
              "      <td>A</td>\n",
              "      <td>A</td>\n",
              "    </tr>\n",
              "    <tr>\n",
              "      <th>1</th>\n",
              "      <td>{8046EC72-1466-42D6-A753-4956BF7CD8A2}</td>\n",
              "      <td>42500</td>\n",
              "      <td>1995-08-09 00:00</td>\n",
              "      <td>S</td>\n",
              "      <td>N</td>\n",
              "      <td>F</td>\n",
              "      <td>GRAYS</td>\n",
              "      <td>THURROCK</td>\n",
              "      <td>THURROCK</td>\n",
              "      <td>A</td>\n",
              "      <td>A</td>\n",
              "    </tr>\n",
              "    <tr>\n",
              "      <th>2</th>\n",
              "      <td>{278D581A-5BF3-4FCE-AF62-4956D87691E6}</td>\n",
              "      <td>45000</td>\n",
              "      <td>1995-06-30 00:00</td>\n",
              "      <td>T</td>\n",
              "      <td>N</td>\n",
              "      <td>F</td>\n",
              "      <td>HIGHBRIDGE</td>\n",
              "      <td>SEDGEMOOR</td>\n",
              "      <td>SOMERSET</td>\n",
              "      <td>A</td>\n",
              "      <td>A</td>\n",
              "    </tr>\n",
              "    <tr>\n",
              "      <th>3</th>\n",
              "      <td>{1D861C06-A416-4865-973C-4956DB12CD12}</td>\n",
              "      <td>43150</td>\n",
              "      <td>1995-11-24 00:00</td>\n",
              "      <td>T</td>\n",
              "      <td>N</td>\n",
              "      <td>F</td>\n",
              "      <td>BEDFORD</td>\n",
              "      <td>NORTH BEDFORDSHIRE</td>\n",
              "      <td>BEDFORDSHIRE</td>\n",
              "      <td>A</td>\n",
              "      <td>A</td>\n",
              "    </tr>\n",
              "    <tr>\n",
              "      <th>4</th>\n",
              "      <td>{DD8645FD-A815-43A6-A7BA-4956E58F1874}</td>\n",
              "      <td>18899</td>\n",
              "      <td>1995-06-23 00:00</td>\n",
              "      <td>S</td>\n",
              "      <td>N</td>\n",
              "      <td>F</td>\n",
              "      <td>WAKEFIELD</td>\n",
              "      <td>LEEDS</td>\n",
              "      <td>WEST YORKSHIRE</td>\n",
              "      <td>A</td>\n",
              "      <td>A</td>\n",
              "    </tr>\n",
              "  </tbody>\n",
              "</table>\n",
              "</div>\n",
              "      <button class=\"colab-df-convert\" onclick=\"convertToInteractive('df-8b8243c5-bb9f-49ae-8fdb-3cebc8a92dcd')\"\n",
              "              title=\"Convert this dataframe to an interactive table.\"\n",
              "              style=\"display:none;\">\n",
              "        \n",
              "  <svg xmlns=\"http://www.w3.org/2000/svg\" height=\"24px\"viewBox=\"0 0 24 24\"\n",
              "       width=\"24px\">\n",
              "    <path d=\"M0 0h24v24H0V0z\" fill=\"none\"/>\n",
              "    <path d=\"M18.56 5.44l.94 2.06.94-2.06 2.06-.94-2.06-.94-.94-2.06-.94 2.06-2.06.94zm-11 1L8.5 8.5l.94-2.06 2.06-.94-2.06-.94L8.5 2.5l-.94 2.06-2.06.94zm10 10l.94 2.06.94-2.06 2.06-.94-2.06-.94-.94-2.06-.94 2.06-2.06.94z\"/><path d=\"M17.41 7.96l-1.37-1.37c-.4-.4-.92-.59-1.43-.59-.52 0-1.04.2-1.43.59L10.3 9.45l-7.72 7.72c-.78.78-.78 2.05 0 2.83L4 21.41c.39.39.9.59 1.41.59.51 0 1.02-.2 1.41-.59l7.78-7.78 2.81-2.81c.8-.78.8-2.07 0-2.86zM5.41 20L4 18.59l7.72-7.72 1.47 1.35L5.41 20z\"/>\n",
              "  </svg>\n",
              "      </button>\n",
              "      \n",
              "  <style>\n",
              "    .colab-df-container {\n",
              "      display:flex;\n",
              "      flex-wrap:wrap;\n",
              "      gap: 12px;\n",
              "    }\n",
              "\n",
              "    .colab-df-convert {\n",
              "      background-color: #E8F0FE;\n",
              "      border: none;\n",
              "      border-radius: 50%;\n",
              "      cursor: pointer;\n",
              "      display: none;\n",
              "      fill: #1967D2;\n",
              "      height: 32px;\n",
              "      padding: 0 0 0 0;\n",
              "      width: 32px;\n",
              "    }\n",
              "\n",
              "    .colab-df-convert:hover {\n",
              "      background-color: #E2EBFA;\n",
              "      box-shadow: 0px 1px 2px rgba(60, 64, 67, 0.3), 0px 1px 3px 1px rgba(60, 64, 67, 0.15);\n",
              "      fill: #174EA6;\n",
              "    }\n",
              "\n",
              "    [theme=dark] .colab-df-convert {\n",
              "      background-color: #3B4455;\n",
              "      fill: #D2E3FC;\n",
              "    }\n",
              "\n",
              "    [theme=dark] .colab-df-convert:hover {\n",
              "      background-color: #434B5C;\n",
              "      box-shadow: 0px 1px 3px 1px rgba(0, 0, 0, 0.15);\n",
              "      filter: drop-shadow(0px 1px 2px rgba(0, 0, 0, 0.3));\n",
              "      fill: #FFFFFF;\n",
              "    }\n",
              "  </style>\n",
              "\n",
              "      <script>\n",
              "        const buttonEl =\n",
              "          document.querySelector('#df-8b8243c5-bb9f-49ae-8fdb-3cebc8a92dcd button.colab-df-convert');\n",
              "        buttonEl.style.display =\n",
              "          google.colab.kernel.accessAllowed ? 'block' : 'none';\n",
              "\n",
              "        async function convertToInteractive(key) {\n",
              "          const element = document.querySelector('#df-8b8243c5-bb9f-49ae-8fdb-3cebc8a92dcd');\n",
              "          const dataTable =\n",
              "            await google.colab.kernel.invokeFunction('convertToInteractive',\n",
              "                                                     [key], {});\n",
              "          if (!dataTable) return;\n",
              "\n",
              "          const docLinkHtml = 'Like what you see? Visit the ' +\n",
              "            '<a target=\"_blank\" href=https://colab.research.google.com/notebooks/data_table.ipynb>data table notebook</a>'\n",
              "            + ' to learn more about interactive tables.';\n",
              "          element.innerHTML = '';\n",
              "          dataTable['output_type'] = 'display_data';\n",
              "          await google.colab.output.renderOutput(dataTable, element);\n",
              "          const docLink = document.createElement('div');\n",
              "          docLink.innerHTML = docLinkHtml;\n",
              "          element.appendChild(docLink);\n",
              "        }\n",
              "      </script>\n",
              "    </div>\n",
              "  </div>\n",
              "  "
            ]
          },
          "metadata": {},
          "execution_count": 17
        }
      ]
    },
    {
      "cell_type": "markdown",
      "source": [
        "The shape of the file is given as below:"
      ],
      "metadata": {
        "id": "hcHDpjo4O4gq"
      }
    },
    {
      "cell_type": "code",
      "source": [
        "df.shape"
      ],
      "metadata": {
        "colab": {
          "base_uri": "https://localhost:8080/"
        },
        "id": "ievJQXfWO4Ai",
        "outputId": "9228c377-8453-4a92-e1a7-e24eacc2c9ff"
      },
      "execution_count": 20,
      "outputs": [
        {
          "output_type": "execute_result",
          "data": {
            "text/plain": [
              "(22489348, 11)"
            ]
          },
          "metadata": {},
          "execution_count": 20
        }
      ]
    },
    {
      "cell_type": "markdown",
      "source": [
        "It is observed that there are 2289348 rows and 11 columns in the dataset."
      ],
      "metadata": {
        "id": "1MfFci0WbQed"
      }
    },
    {
      "cell_type": "code",
      "source": [],
      "metadata": {
        "id": "ieyywlOIQEBF"
      },
      "execution_count": null,
      "outputs": []
    }
  ]
}